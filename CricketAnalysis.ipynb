{
  "nbformat": 4,
  "nbformat_minor": 0,
  "metadata": {
    "colab": {
      "provenance": [],
      "gpuType": "T4",
      "authorship_tag": "ABX9TyOum/yfguibGWwXIgnC9yGp",
      "include_colab_link": true
    },
    "kernelspec": {
      "name": "python3",
      "display_name": "Python 3"
    },
    "language_info": {
      "name": "python"
    },
    "widgets": {
      "application/vnd.jupyter.widget-state+json": {
        "aadf15625c5c4003b38418692bcdcf9e": {
          "model_module": "@jupyter-widgets/controls",
          "model_name": "TextModel",
          "model_module_version": "1.5.0",
          "state": {
            "_dom_classes": [],
            "_model_module": "@jupyter-widgets/controls",
            "_model_module_version": "1.5.0",
            "_model_name": "TextModel",
            "_view_count": null,
            "_view_module": "@jupyter-widgets/controls",
            "_view_module_version": "1.5.0",
            "_view_name": "TextView",
            "continuous_update": true,
            "description": "Player:",
            "description_tooltip": null,
            "disabled": false,
            "layout": "IPY_MODEL_acf8dd88a5864a7886f1a7b7c7a15f01",
            "placeholder": "Type player name...",
            "style": "IPY_MODEL_da0447e1b16148ed9aa3117098e35bdf",
            "value": "kohli"
          }
        },
        "acf8dd88a5864a7886f1a7b7c7a15f01": {
          "model_module": "@jupyter-widgets/base",
          "model_name": "LayoutModel",
          "model_module_version": "1.2.0",
          "state": {
            "_model_module": "@jupyter-widgets/base",
            "_model_module_version": "1.2.0",
            "_model_name": "LayoutModel",
            "_view_count": null,
            "_view_module": "@jupyter-widgets/base",
            "_view_module_version": "1.2.0",
            "_view_name": "LayoutView",
            "align_content": null,
            "align_items": null,
            "align_self": null,
            "border": null,
            "bottom": null,
            "display": null,
            "flex": null,
            "flex_flow": null,
            "grid_area": null,
            "grid_auto_columns": null,
            "grid_auto_flow": null,
            "grid_auto_rows": null,
            "grid_column": null,
            "grid_gap": null,
            "grid_row": null,
            "grid_template_areas": null,
            "grid_template_columns": null,
            "grid_template_rows": null,
            "height": null,
            "justify_content": null,
            "justify_items": null,
            "left": null,
            "margin": null,
            "max_height": null,
            "max_width": null,
            "min_height": null,
            "min_width": null,
            "object_fit": null,
            "object_position": null,
            "order": null,
            "overflow": null,
            "overflow_x": null,
            "overflow_y": null,
            "padding": null,
            "right": null,
            "top": null,
            "visibility": null,
            "width": null
          }
        },
        "da0447e1b16148ed9aa3117098e35bdf": {
          "model_module": "@jupyter-widgets/controls",
          "model_name": "DescriptionStyleModel",
          "model_module_version": "1.5.0",
          "state": {
            "_model_module": "@jupyter-widgets/controls",
            "_model_module_version": "1.5.0",
            "_model_name": "DescriptionStyleModel",
            "_view_count": null,
            "_view_module": "@jupyter-widgets/base",
            "_view_module_version": "1.2.0",
            "_view_name": "StyleView",
            "description_width": ""
          }
        },
        "edb89d3e5b3a466793eb34f35e6752ec": {
          "model_module": "@jupyter-widgets/controls",
          "model_name": "DropdownModel",
          "model_module_version": "1.5.0",
          "state": {
            "_dom_classes": [],
            "_model_module": "@jupyter-widgets/controls",
            "_model_module_version": "1.5.0",
            "_model_name": "DropdownModel",
            "_options_labels": [
              "ODI",
              "T20"
            ],
            "_view_count": null,
            "_view_module": "@jupyter-widgets/controls",
            "_view_module_version": "1.5.0",
            "_view_name": "DropdownView",
            "description": "Format:",
            "description_tooltip": null,
            "disabled": false,
            "index": 0,
            "layout": "IPY_MODEL_07a037a9d50f48b0825429ac97fc4fa4",
            "style": "IPY_MODEL_8d5ab1f32c82421d9035a71fbfc005bb"
          }
        },
        "07a037a9d50f48b0825429ac97fc4fa4": {
          "model_module": "@jupyter-widgets/base",
          "model_name": "LayoutModel",
          "model_module_version": "1.2.0",
          "state": {
            "_model_module": "@jupyter-widgets/base",
            "_model_module_version": "1.2.0",
            "_model_name": "LayoutModel",
            "_view_count": null,
            "_view_module": "@jupyter-widgets/base",
            "_view_module_version": "1.2.0",
            "_view_name": "LayoutView",
            "align_content": null,
            "align_items": null,
            "align_self": null,
            "border": null,
            "bottom": null,
            "display": null,
            "flex": null,
            "flex_flow": null,
            "grid_area": null,
            "grid_auto_columns": null,
            "grid_auto_flow": null,
            "grid_auto_rows": null,
            "grid_column": null,
            "grid_gap": null,
            "grid_row": null,
            "grid_template_areas": null,
            "grid_template_columns": null,
            "grid_template_rows": null,
            "height": null,
            "justify_content": null,
            "justify_items": null,
            "left": null,
            "margin": null,
            "max_height": null,
            "max_width": null,
            "min_height": null,
            "min_width": null,
            "object_fit": null,
            "object_position": null,
            "order": null,
            "overflow": null,
            "overflow_x": null,
            "overflow_y": null,
            "padding": null,
            "right": null,
            "top": null,
            "visibility": null,
            "width": null
          }
        },
        "8d5ab1f32c82421d9035a71fbfc005bb": {
          "model_module": "@jupyter-widgets/controls",
          "model_name": "DescriptionStyleModel",
          "model_module_version": "1.5.0",
          "state": {
            "_model_module": "@jupyter-widgets/controls",
            "_model_module_version": "1.5.0",
            "_model_name": "DescriptionStyleModel",
            "_view_count": null,
            "_view_module": "@jupyter-widgets/base",
            "_view_module_version": "1.2.0",
            "_view_name": "StyleView",
            "description_width": ""
          }
        }
      }
    },
    "accelerator": "GPU"
  },
  "cells": [
    {
      "cell_type": "markdown",
      "metadata": {
        "id": "view-in-github",
        "colab_type": "text"
      },
      "source": [
        "<a href=\"https://colab.research.google.com/github/Hemanthvedantam/AI-portfolio/blob/main/CricketAnalysis.ipynb\" target=\"_parent\"><img src=\"https://colab.research.google.com/assets/colab-badge.svg\" alt=\"Open In Colab\"/></a>"
      ]
    },
    {
      "cell_type": "code",
      "execution_count": 2,
      "metadata": {
        "colab": {
          "base_uri": "https://localhost:8080/",
          "height": 766,
          "referenced_widgets": [
            "aadf15625c5c4003b38418692bcdcf9e",
            "acf8dd88a5864a7886f1a7b7c7a15f01",
            "da0447e1b16148ed9aa3117098e35bdf",
            "edb89d3e5b3a466793eb34f35e6752ec",
            "07a037a9d50f48b0825429ac97fc4fa4",
            "8d5ab1f32c82421d9035a71fbfc005bb"
          ]
        },
        "id": "ax5FRiV-ECNb",
        "outputId": "973c96b1-e6ed-4dc7-9bbc-4c91efdbf2cc"
      },
      "outputs": [
        {
          "output_type": "display_data",
          "data": {
            "text/plain": [
              "Text(value='kohli', description='Player:', placeholder='Type player name...')"
            ],
            "application/vnd.jupyter.widget-view+json": {
              "version_major": 2,
              "version_minor": 0,
              "model_id": "aadf15625c5c4003b38418692bcdcf9e"
            }
          },
          "metadata": {}
        },
        {
          "output_type": "display_data",
          "data": {
            "text/plain": [
              "Dropdown(description='Format:', options=('ODI', 'T20'), value='ODI')"
            ],
            "application/vnd.jupyter.widget-view+json": {
              "version_major": 2,
              "version_minor": 0,
              "model_id": "edb89d3e5b3a466793eb34f35e6752ec"
            }
          },
          "metadata": {}
        },
        {
          "output_type": "stream",
          "name": "stdout",
          "text": [
            "--- Kohli's ODI Performance ---\n",
            "Batting Average: 49.82\n",
            "Total Runs: 11609\n",
            "Total Wickets: 4\n",
            "Bowling Economy Rate: 6.22\n",
            "Batting Strike Rate: 93.28\n",
            "Total Catches: 124\n"
          ]
        },
        {
          "output_type": "stream",
          "name": "stderr",
          "text": [
            "<ipython-input-2-9fe2068c275a>:71: FutureWarning: \n",
            "\n",
            "Passing `palette` without assigning `hue` is deprecated and will be removed in v0.14.0. Assign the `y` variable to `hue` and set `legend=False` for the same effect.\n",
            "\n",
            "  sns.barplot(x=stats_values, y=stats_labels, palette=\"coolwarm\", ax=axes[0])\n"
          ]
        },
        {
          "output_type": "display_data",
          "data": {
            "text/plain": [
              "<Figure size 1400x500 with 2 Axes>"
            ],
            "image/png": "[encoded data removed]"
          },
          "metadata": {}
        }
      ],
      "source": [
        "import pandas as pd\n",
        "import ipywidgets as widgets\n",
        "import matplotlib.pyplot as plt\n",
        "import seaborn as sns\n",
        "from IPython.display import display, clear_output\n",
        "\n",
        "batting_odi = pd.read_csv(\"ODI data.csv\")\n",
        "bowling_odi = pd.read_csv(\"Bowling_ODI.csv\")\n",
        "fielding_odi = pd.read_csv(\"Fielding_ODI.csv\")\n",
        "\n",
        "batting_t20 = pd.read_csv(\"t20.csv\")\n",
        "bowling_t20 = pd.read_csv(\"Bowling_t20.csv\")\n",
        "fielding_t20 = pd.read_csv(\"Fielding_t20.csv\")\n",
        "\n",
        "odi_stats = batting_odi.merge(bowling_odi, on=\"Player\", how=\"outer\") \\\n",
        "                       .merge(fielding_odi, on=\"Player\", how=\"outer\")\n",
        "\n",
        "t20_stats = batting_t20.merge(bowling_t20, on=\"Player\", how=\"outer\") \\\n",
        "                       .merge(fielding_t20, on=\"Player\", how=\"outer\")\n",
        "\n",
        "def prepare_stats(df):\n",
        "    df[\"Runs_x\"] = pd.to_numeric(df[\"Runs_x\"], errors=\"coerce\").fillna(0)\n",
        "    df[\"Inns_x\"] = pd.to_numeric(df[\"Inns_x\"], errors=\"coerce\").fillna(0)\n",
        "    df[\"SR_x\"] = pd.to_numeric(df[\"SR_x\"], errors=\"coerce\").fillna(0)\n",
        "    df[\"Wkts\"] = pd.to_numeric(df[\"Wkts\"], errors=\"coerce\").fillna(0)\n",
        "    df[\"Econ\"] = pd.to_numeric(df[\"Econ\"], errors=\"coerce\").fillna(0)\n",
        "    df[\"Ct\"] = pd.to_numeric(df[\"Ct\"], errors=\"coerce\").fillna(0)\n",
        "    df = df.drop_duplicates(subset=\"Player\")\n",
        "    return df\n",
        "\n",
        "odi_stats = prepare_stats(odi_stats)\n",
        "t20_stats = prepare_stats(t20_stats)\n",
        "\n",
        "player_input = widgets.Text(description=\"Player:\", placeholder=\"Type player name...\")\n",
        "format_selector = widgets.Dropdown(options=[\"ODI\", \"T20\"], description=\"Format:\")\n",
        "\n",
        "def display_player_analysis(change):\n",
        "    clear_output(wait=True)\n",
        "    display(player_input, format_selector)\n",
        "\n",
        "    player_name = player_input.value.strip().lower()\n",
        "    selected_format = format_selector.value\n",
        "\n",
        "    if player_name:\n",
        "        if selected_format == \"ODI\":\n",
        "            player_stats = odi_stats[odi_stats[\"Player\"].str.lower().str.contains(player_name, na=False)]\n",
        "        elif selected_format == \"T20\":\n",
        "            player_stats = t20_stats[t20_stats[\"Player\"].str.lower().str.contains(player_name, na=False)]\n",
        "\n",
        "        if not player_stats.empty:\n",
        "            batting_avg = player_stats[\"Runs_x\"].sum() / player_stats[\"Inns_x\"].sum() if player_stats[\"Inns_x\"].sum() > 0 else 0\n",
        "            total_runs = player_stats[\"Runs_x\"].sum()\n",
        "            total_wickets = player_stats[\"Wkts\"].sum()\n",
        "            batting_strike_rate = player_stats[\"SR_x\"].mean()\n",
        "            economy_rate = player_stats[\"Econ\"].mean()\n",
        "            total_catches = player_stats[\"Ct\"].sum()\n",
        "\n",
        "            print(f\"--- {player_name.title()}'s {selected_format} Performance ---\")\n",
        "            print(f\"Batting Average: {batting_avg:.2f}\")\n",
        "            print(f\"Total Runs: {total_runs:.0f}\")\n",
        "            print(f\"Total Wickets: {total_wickets:.0f}\")\n",
        "            print(f\"Bowling Economy Rate: {economy_rate:.2f}\")\n",
        "            print(f\"Batting Strike Rate: {batting_strike_rate:.2f}\")\n",
        "            print(f\"Total Catches: {total_catches:.0f}\")\n",
        "\n",
        "            fig, axes = plt.subplots(1, 2, figsize=(14, 5))\n",
        "\n",
        "            stats_labels = [\"Total Runs\", \"Total Wickets\", \"Batting SR\", \"Bowling Econ\", \"Total Catches\"]\n",
        "            stats_values = [total_runs, total_wickets, batting_strike_rate, economy_rate, total_catches]\n",
        "\n",
        "            sns.barplot(x=stats_values, y=stats_labels, palette=\"coolwarm\", ax=axes[0])\n",
        "            axes[0].set_title(f\"{player_name.title()} - Key Statistics\", fontsize=14)\n",
        "            axes[0].set_xlabel(\"Values\")\n",
        "\n",
        "            pie_labels = [\"Runs\", \"Wickets\", \"Catches\"]\n",
        "            pie_values = [total_runs, total_wickets, total_catches]\n",
        "            axes[1].pie(pie_values, labels=pie_labels, autopct=\"%1.1f%%\", colors=[\"#1f77b4\", \"#ff7f0e\", \"#2ca02c\"])\n",
        "            axes[1].set_title(f\"{player_name.title()}'s Contribution Breakdown\", fontsize=14)\n",
        "\n",
        "            plt.show()\n",
        "        else:\n",
        "            print(f\"No data found for '{player_name}' in {selected_format}. Please check the spelling.\")\n",
        "\n",
        "player_input.on_submit(display_player_analysis)\n",
        "format_selector.observe(display_player_analysis, names=\"value\")\n",
        "\n",
        "display(player_input, format_selector)\n"
      ]
    }
  ]
}